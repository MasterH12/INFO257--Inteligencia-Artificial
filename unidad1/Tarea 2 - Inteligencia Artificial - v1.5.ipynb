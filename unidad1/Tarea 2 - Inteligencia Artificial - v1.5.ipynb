{
 "cells": [
  {
   "cell_type": "markdown",
   "metadata": {},
   "source": [
    "# 1.- Obtención de datos y procesamiento inicial\n",
    "\n",
    "## 1.1 - Obtención"
   ]
  },
  {
   "cell_type": "code",
   "execution_count": 10,
   "metadata": {},
   "outputs": [
    {
     "data": {
      "text/html": [
       "<div>\n",
       "<style scoped>\n",
       "    .dataframe tbody tr th:only-of-type {\n",
       "        vertical-align: middle;\n",
       "    }\n",
       "\n",
       "    .dataframe tbody tr th {\n",
       "        vertical-align: top;\n",
       "    }\n",
       "\n",
       "    .dataframe thead th {\n",
       "        text-align: right;\n",
       "    }\n",
       "</style>\n",
       "<table border=\"1\" class=\"dataframe\">\n",
       "  <thead>\n",
       "    <tr style=\"text-align: right;\">\n",
       "      <th></th>\n",
       "      <th>objid</th>\n",
       "      <th>ra</th>\n",
       "      <th>dec</th>\n",
       "      <th>u</th>\n",
       "      <th>g</th>\n",
       "      <th>r</th>\n",
       "      <th>i</th>\n",
       "      <th>z</th>\n",
       "      <th>run</th>\n",
       "      <th>rerun</th>\n",
       "      <th>camcol</th>\n",
       "      <th>field</th>\n",
       "      <th>specobjid</th>\n",
       "      <th>class</th>\n",
       "      <th>redshift</th>\n",
       "      <th>plate</th>\n",
       "      <th>mjd</th>\n",
       "      <th>fiberid</th>\n",
       "    </tr>\n",
       "  </thead>\n",
       "  <tbody>\n",
       "    <tr>\n",
       "      <th>0</th>\n",
       "      <td>1.237650e+18</td>\n",
       "      <td>183.531326</td>\n",
       "      <td>0.089693</td>\n",
       "      <td>19.47406</td>\n",
       "      <td>17.04240</td>\n",
       "      <td>15.94699</td>\n",
       "      <td>15.50342</td>\n",
       "      <td>15.22531</td>\n",
       "      <td>752</td>\n",
       "      <td>301</td>\n",
       "      <td>4</td>\n",
       "      <td>267</td>\n",
       "      <td>3.722360e+18</td>\n",
       "      <td>STAR</td>\n",
       "      <td>-0.000009</td>\n",
       "      <td>3306</td>\n",
       "      <td>54922</td>\n",
       "      <td>491</td>\n",
       "    </tr>\n",
       "    <tr>\n",
       "      <th>1</th>\n",
       "      <td>1.237650e+18</td>\n",
       "      <td>183.598371</td>\n",
       "      <td>0.135285</td>\n",
       "      <td>18.66280</td>\n",
       "      <td>17.21449</td>\n",
       "      <td>16.67637</td>\n",
       "      <td>16.48922</td>\n",
       "      <td>16.39150</td>\n",
       "      <td>752</td>\n",
       "      <td>301</td>\n",
       "      <td>4</td>\n",
       "      <td>267</td>\n",
       "      <td>3.638140e+17</td>\n",
       "      <td>STAR</td>\n",
       "      <td>-0.000055</td>\n",
       "      <td>323</td>\n",
       "      <td>51615</td>\n",
       "      <td>541</td>\n",
       "    </tr>\n",
       "    <tr>\n",
       "      <th>2</th>\n",
       "      <td>1.237650e+18</td>\n",
       "      <td>183.680207</td>\n",
       "      <td>0.126185</td>\n",
       "      <td>19.38298</td>\n",
       "      <td>18.19169</td>\n",
       "      <td>17.47428</td>\n",
       "      <td>17.08732</td>\n",
       "      <td>16.80125</td>\n",
       "      <td>752</td>\n",
       "      <td>301</td>\n",
       "      <td>4</td>\n",
       "      <td>268</td>\n",
       "      <td>3.232740e+17</td>\n",
       "      <td>GALAXY</td>\n",
       "      <td>0.123111</td>\n",
       "      <td>287</td>\n",
       "      <td>52023</td>\n",
       "      <td>513</td>\n",
       "    </tr>\n",
       "    <tr>\n",
       "      <th>3</th>\n",
       "      <td>1.237650e+18</td>\n",
       "      <td>183.870529</td>\n",
       "      <td>0.049911</td>\n",
       "      <td>17.76536</td>\n",
       "      <td>16.60272</td>\n",
       "      <td>16.16116</td>\n",
       "      <td>15.98233</td>\n",
       "      <td>15.90438</td>\n",
       "      <td>752</td>\n",
       "      <td>301</td>\n",
       "      <td>4</td>\n",
       "      <td>269</td>\n",
       "      <td>3.722370e+18</td>\n",
       "      <td>STAR</td>\n",
       "      <td>-0.000111</td>\n",
       "      <td>3306</td>\n",
       "      <td>54922</td>\n",
       "      <td>510</td>\n",
       "    </tr>\n",
       "    <tr>\n",
       "      <th>4</th>\n",
       "      <td>1.237650e+18</td>\n",
       "      <td>183.883288</td>\n",
       "      <td>0.102557</td>\n",
       "      <td>17.55025</td>\n",
       "      <td>16.26342</td>\n",
       "      <td>16.43869</td>\n",
       "      <td>16.55492</td>\n",
       "      <td>16.61326</td>\n",
       "      <td>752</td>\n",
       "      <td>301</td>\n",
       "      <td>4</td>\n",
       "      <td>269</td>\n",
       "      <td>3.722370e+18</td>\n",
       "      <td>STAR</td>\n",
       "      <td>0.000590</td>\n",
       "      <td>3306</td>\n",
       "      <td>54922</td>\n",
       "      <td>512</td>\n",
       "    </tr>\n",
       "  </tbody>\n",
       "</table>\n",
       "</div>"
      ],
      "text/plain": [
       "          objid          ra       dec         u         g         r         i  \\\n",
       "0  1.237650e+18  183.531326  0.089693  19.47406  17.04240  15.94699  15.50342   \n",
       "1  1.237650e+18  183.598371  0.135285  18.66280  17.21449  16.67637  16.48922   \n",
       "2  1.237650e+18  183.680207  0.126185  19.38298  18.19169  17.47428  17.08732   \n",
       "3  1.237650e+18  183.870529  0.049911  17.76536  16.60272  16.16116  15.98233   \n",
       "4  1.237650e+18  183.883288  0.102557  17.55025  16.26342  16.43869  16.55492   \n",
       "\n",
       "          z  run  rerun  camcol  field     specobjid   class  redshift  plate  \\\n",
       "0  15.22531  752    301       4    267  3.722360e+18    STAR -0.000009   3306   \n",
       "1  16.39150  752    301       4    267  3.638140e+17    STAR -0.000055    323   \n",
       "2  16.80125  752    301       4    268  3.232740e+17  GALAXY  0.123111    287   \n",
       "3  15.90438  752    301       4    269  3.722370e+18    STAR -0.000111   3306   \n",
       "4  16.61326  752    301       4    269  3.722370e+18    STAR  0.000590   3306   \n",
       "\n",
       "     mjd  fiberid  \n",
       "0  54922      491  \n",
       "1  51615      541  \n",
       "2  52023      513  \n",
       "3  54922      510  \n",
       "4  54922      512  "
      ]
     },
     "execution_count": 10,
     "metadata": {},
     "output_type": "execute_result"
    }
   ],
   "source": [
    "import pandas as pd\n",
    "import seaborn as sns\n",
    "import numpy as np\n",
    "import matplotlib.pyplot as plt\n",
    "from sklearn.model_selection import train_test_split\n",
    "\n",
    "df = pd.read_csv(\"datos/SDSS-DR14.csv\")\n",
    "df.head()"
   ]
  },
  {
   "cell_type": "markdown",
   "metadata": {},
   "source": [
    "## 1.2 - Verificación de equilibro de las clases"
   ]
  },
  {
   "cell_type": "code",
   "execution_count": 11,
   "metadata": {},
   "outputs": [
    {
     "data": {
      "image/png": "[encoded data removed]",
      "text/plain": [
       "<Figure size 432x288 with 1 Axes>"
      ]
     },
     "metadata": {
      "needs_background": "light"
     },
     "output_type": "display_data"
    }
   ],
   "source": [
    "sns.countplot(x=\"class\", data=df)\n",
    "plt.show()"
   ]
  },
  {
   "cell_type": "markdown",
   "metadata": {},
   "source": [
    "Como se puede observar, la QSO tiene una cantidad menor de muestras con respecto a las demás clases. un Se necesitará hacer un oversampling más adelante"
   ]
  },
  {
   "cell_type": "markdown",
   "metadata": {},
   "source": [
    "## 1.3 - Verificando si camcol es una característica calificativa"
   ]
  },
  {
   "cell_type": "code",
   "execution_count": 12,
   "metadata": {
    "scrolled": true
   },
   "outputs": [
    {
     "data": {
      "image/png": "[encoded data removed]",
      "text/plain": [
       "<Figure size 432x288 with 1 Axes>"
      ]
     },
     "metadata": {
      "needs_background": "light"
     },
     "output_type": "display_data"
    }
   ],
   "source": [
    "sns.countplot(x=\"camcol\", data=df)\n",
    "plt.show()"
   ]
  },
  {
   "cell_type": "markdown",
   "metadata": {},
   "source": [
    "Estamos frente a una variable discreta, por lo que si podemos llegar a la conclusión de que en este caso puede ser una característica calificativa"
   ]
  },
  {
   "cell_type": "markdown",
   "metadata": {},
   "source": [
    "## 1.4 - En busca de posibles características que no aporten al aprendizaje"
   ]
  },
  {
   "cell_type": "code",
   "execution_count": 13,
   "metadata": {
    "scrolled": true
   },
   "outputs": [
    {
     "data": {
      "text/html": [
       "<div>\n",
       "<style scoped>\n",
       "    .dataframe tbody tr th:only-of-type {\n",
       "        vertical-align: middle;\n",
       "    }\n",
       "\n",
       "    .dataframe tbody tr th {\n",
       "        vertical-align: top;\n",
       "    }\n",
       "\n",
       "    .dataframe thead th {\n",
       "        text-align: right;\n",
       "    }\n",
       "</style>\n",
       "<table border=\"1\" class=\"dataframe\">\n",
       "  <thead>\n",
       "    <tr style=\"text-align: right;\">\n",
       "      <th></th>\n",
       "      <th>objid</th>\n",
       "      <th>ra</th>\n",
       "      <th>dec</th>\n",
       "      <th>u</th>\n",
       "      <th>g</th>\n",
       "      <th>r</th>\n",
       "      <th>i</th>\n",
       "      <th>z</th>\n",
       "      <th>run</th>\n",
       "      <th>rerun</th>\n",
       "      <th>camcol</th>\n",
       "      <th>field</th>\n",
       "      <th>specobjid</th>\n",
       "      <th>redshift</th>\n",
       "      <th>plate</th>\n",
       "      <th>mjd</th>\n",
       "      <th>fiberid</th>\n",
       "    </tr>\n",
       "    <tr>\n",
       "      <th>class</th>\n",
       "      <th></th>\n",
       "      <th></th>\n",
       "      <th></th>\n",
       "      <th></th>\n",
       "      <th></th>\n",
       "      <th></th>\n",
       "      <th></th>\n",
       "      <th></th>\n",
       "      <th></th>\n",
       "      <th></th>\n",
       "      <th></th>\n",
       "      <th></th>\n",
       "      <th></th>\n",
       "      <th></th>\n",
       "      <th></th>\n",
       "      <th></th>\n",
       "      <th></th>\n",
       "    </tr>\n",
       "  </thead>\n",
       "  <tbody>\n",
       "    <tr>\n",
       "      <th>GALAXY</th>\n",
       "      <td>1.237650e+18</td>\n",
       "      <td>177.333570</td>\n",
       "      <td>15.764372</td>\n",
       "      <td>18.804339</td>\n",
       "      <td>17.350216</td>\n",
       "      <td>16.649506</td>\n",
       "      <td>16.272770</td>\n",
       "      <td>16.017923</td>\n",
       "      <td>996.711685</td>\n",
       "      <td>301.0</td>\n",
       "      <td>3.654662</td>\n",
       "      <td>300.963585</td>\n",
       "      <td>5.379141e+17</td>\n",
       "      <td>0.080325</td>\n",
       "      <td>477.680672</td>\n",
       "      <td>52030.280912</td>\n",
       "      <td>340.108844</td>\n",
       "    </tr>\n",
       "    <tr>\n",
       "      <th>QSO</th>\n",
       "      <td>1.237650e+18</td>\n",
       "      <td>177.468000</td>\n",
       "      <td>20.570639</td>\n",
       "      <td>18.942928</td>\n",
       "      <td>18.678714</td>\n",
       "      <td>18.498535</td>\n",
       "      <td>18.360007</td>\n",
       "      <td>18.274761</td>\n",
       "      <td>1036.120000</td>\n",
       "      <td>301.0</td>\n",
       "      <td>3.694118</td>\n",
       "      <td>304.983529</td>\n",
       "      <td>1.447231e+18</td>\n",
       "      <td>1.218366</td>\n",
       "      <td>1285.305882</td>\n",
       "      <td>52694.289412</td>\n",
       "      <td>381.558824</td>\n",
       "    </tr>\n",
       "    <tr>\n",
       "      <th>STAR</th>\n",
       "      <td>1.237650e+18</td>\n",
       "      <td>172.962158</td>\n",
       "      <td>12.544824</td>\n",
       "      <td>18.330439</td>\n",
       "      <td>17.130547</td>\n",
       "      <td>16.732093</td>\n",
       "      <td>16.594047</td>\n",
       "      <td>16.531119</td>\n",
       "      <td>950.886561</td>\n",
       "      <td>301.0</td>\n",
       "      <td>3.632225</td>\n",
       "      <td>303.552264</td>\n",
       "      <td>3.018202e+18</td>\n",
       "      <td>0.000043</td>\n",
       "      <td>2680.613198</td>\n",
       "      <td>54093.892823</td>\n",
       "      <td>362.838391</td>\n",
       "    </tr>\n",
       "  </tbody>\n",
       "</table>\n",
       "</div>"
      ],
      "text/plain": [
       "               objid          ra        dec          u          g          r  \\\n",
       "class                                                                          \n",
       "GALAXY  1.237650e+18  177.333570  15.764372  18.804339  17.350216  16.649506   \n",
       "QSO     1.237650e+18  177.468000  20.570639  18.942928  18.678714  18.498535   \n",
       "STAR    1.237650e+18  172.962158  12.544824  18.330439  17.130547  16.732093   \n",
       "\n",
       "                i          z          run  rerun    camcol       field  \\\n",
       "class                                                                    \n",
       "GALAXY  16.272770  16.017923   996.711685  301.0  3.654662  300.963585   \n",
       "QSO     18.360007  18.274761  1036.120000  301.0  3.694118  304.983529   \n",
       "STAR    16.594047  16.531119   950.886561  301.0  3.632225  303.552264   \n",
       "\n",
       "           specobjid  redshift        plate           mjd     fiberid  \n",
       "class                                                                  \n",
       "GALAXY  5.379141e+17  0.080325   477.680672  52030.280912  340.108844  \n",
       "QSO     1.447231e+18  1.218366  1285.305882  52694.289412  381.558824  \n",
       "STAR    3.018202e+18  0.000043  2680.613198  54093.892823  362.838391  "
      ]
     },
     "execution_count": 13,
     "metadata": {},
     "output_type": "execute_result"
    }
   ],
   "source": [
    "df.groupby(\"class\").mean()"
   ]
  },
  {
   "cell_type": "markdown",
   "metadata": {},
   "source": [
    "Se puede observar que las características \"objid\" y \"rerun\" posiblemente no sean útiles en el aprendizaje para la IA.\n",
    "\n",
    "## 1.5 - Función de conteo"
   ]
  },
  {
   "cell_type": "code",
   "execution_count": 14,
   "metadata": {},
   "outputs": [],
   "source": [
    "def counts(rows, columna, modo, valor):\n",
    "    \"\"\"Counts the number of each type of example in a dataset.\"\"\"\n",
    "    counts = {}  # a dictionary of label -> count.\n",
    "    rows = rows[columna]\n",
    "    for row in rows:\n",
    "        # in our dataset format, the label is always the last column\n",
    "        label = row\n",
    "        if(modo == \"atipico<=\"):\n",
    "            if label <= valor:\n",
    "                if label not in counts:\n",
    "                    counts[label] = 0\n",
    "                counts[label] += 1\n",
    "        elif(modo == \"atipico>=\"):\n",
    "            if label >= valor:\n",
    "                if label not in counts:\n",
    "                    counts[label] = 0\n",
    "                counts[label] += 1\n",
    "        else:\n",
    "            if label not in counts:\n",
    "                counts[label] = 0\n",
    "            counts[label] += 1\n",
    "    return counts"
   ]
  },
  {
   "cell_type": "markdown",
   "metadata": {},
   "source": [
    "# Revisando las columnas sospechosas"
   ]
  },
  {
   "cell_type": "markdown",
   "metadata": {},
   "source": [
    "Si se confirma que las características no aportan, se se eliminarán las columnas de el dataframe"
   ]
  },
  {
   "cell_type": "code",
   "execution_count": 15,
   "metadata": {},
   "outputs": [
    {
     "data": {
      "text/plain": [
       "{1.23765e+18: 10000}"
      ]
     },
     "execution_count": 15,
     "metadata": {},
     "output_type": "execute_result"
    }
   ],
   "source": [
    "counts(df, \"objid\", \"\",\"\") #Esta característica es igual en todas las clases, por lo que procedo a borrar"
   ]
  },
  {
   "cell_type": "code",
   "execution_count": 16,
   "metadata": {},
   "outputs": [
    {
     "data": {
      "text/html": [
       "<div>\n",
       "<style scoped>\n",
       "    .dataframe tbody tr th:only-of-type {\n",
       "        vertical-align: middle;\n",
       "    }\n",
       "\n",
       "    .dataframe tbody tr th {\n",
       "        vertical-align: top;\n",
       "    }\n",
       "\n",
       "    .dataframe thead th {\n",
       "        text-align: right;\n",
       "    }\n",
       "</style>\n",
       "<table border=\"1\" class=\"dataframe\">\n",
       "  <thead>\n",
       "    <tr style=\"text-align: right;\">\n",
       "      <th></th>\n",
       "      <th>ra</th>\n",
       "      <th>dec</th>\n",
       "      <th>u</th>\n",
       "      <th>g</th>\n",
       "      <th>r</th>\n",
       "      <th>i</th>\n",
       "      <th>z</th>\n",
       "      <th>run</th>\n",
       "      <th>rerun</th>\n",
       "      <th>camcol</th>\n",
       "      <th>field</th>\n",
       "      <th>specobjid</th>\n",
       "      <th>class</th>\n",
       "      <th>redshift</th>\n",
       "      <th>plate</th>\n",
       "      <th>mjd</th>\n",
       "      <th>fiberid</th>\n",
       "    </tr>\n",
       "  </thead>\n",
       "  <tbody>\n",
       "    <tr>\n",
       "      <th>0</th>\n",
       "      <td>183.531326</td>\n",
       "      <td>0.089693</td>\n",
       "      <td>19.47406</td>\n",
       "      <td>17.04240</td>\n",
       "      <td>15.94699</td>\n",
       "      <td>15.50342</td>\n",
       "      <td>15.22531</td>\n",
       "      <td>752</td>\n",
       "      <td>301</td>\n",
       "      <td>4</td>\n",
       "      <td>267</td>\n",
       "      <td>3.722360e+18</td>\n",
       "      <td>STAR</td>\n",
       "      <td>-0.000009</td>\n",
       "      <td>3306</td>\n",
       "      <td>54922</td>\n",
       "      <td>491</td>\n",
       "    </tr>\n",
       "    <tr>\n",
       "      <th>1</th>\n",
       "      <td>183.598371</td>\n",
       "      <td>0.135285</td>\n",
       "      <td>18.66280</td>\n",
       "      <td>17.21449</td>\n",
       "      <td>16.67637</td>\n",
       "      <td>16.48922</td>\n",
       "      <td>16.39150</td>\n",
       "      <td>752</td>\n",
       "      <td>301</td>\n",
       "      <td>4</td>\n",
       "      <td>267</td>\n",
       "      <td>3.638140e+17</td>\n",
       "      <td>STAR</td>\n",
       "      <td>-0.000055</td>\n",
       "      <td>323</td>\n",
       "      <td>51615</td>\n",
       "      <td>541</td>\n",
       "    </tr>\n",
       "    <tr>\n",
       "      <th>2</th>\n",
       "      <td>183.680207</td>\n",
       "      <td>0.126185</td>\n",
       "      <td>19.38298</td>\n",
       "      <td>18.19169</td>\n",
       "      <td>17.47428</td>\n",
       "      <td>17.08732</td>\n",
       "      <td>16.80125</td>\n",
       "      <td>752</td>\n",
       "      <td>301</td>\n",
       "      <td>4</td>\n",
       "      <td>268</td>\n",
       "      <td>3.232740e+17</td>\n",
       "      <td>GALAXY</td>\n",
       "      <td>0.123111</td>\n",
       "      <td>287</td>\n",
       "      <td>52023</td>\n",
       "      <td>513</td>\n",
       "    </tr>\n",
       "    <tr>\n",
       "      <th>3</th>\n",
       "      <td>183.870529</td>\n",
       "      <td>0.049911</td>\n",
       "      <td>17.76536</td>\n",
       "      <td>16.60272</td>\n",
       "      <td>16.16116</td>\n",
       "      <td>15.98233</td>\n",
       "      <td>15.90438</td>\n",
       "      <td>752</td>\n",
       "      <td>301</td>\n",
       "      <td>4</td>\n",
       "      <td>269</td>\n",
       "      <td>3.722370e+18</td>\n",
       "      <td>STAR</td>\n",
       "      <td>-0.000111</td>\n",
       "      <td>3306</td>\n",
       "      <td>54922</td>\n",
       "      <td>510</td>\n",
       "    </tr>\n",
       "    <tr>\n",
       "      <th>4</th>\n",
       "      <td>183.883288</td>\n",
       "      <td>0.102557</td>\n",
       "      <td>17.55025</td>\n",
       "      <td>16.26342</td>\n",
       "      <td>16.43869</td>\n",
       "      <td>16.55492</td>\n",
       "      <td>16.61326</td>\n",
       "      <td>752</td>\n",
       "      <td>301</td>\n",
       "      <td>4</td>\n",
       "      <td>269</td>\n",
       "      <td>3.722370e+18</td>\n",
       "      <td>STAR</td>\n",
       "      <td>0.000590</td>\n",
       "      <td>3306</td>\n",
       "      <td>54922</td>\n",
       "      <td>512</td>\n",
       "    </tr>\n",
       "  </tbody>\n",
       "</table>\n",
       "</div>"
      ],
      "text/plain": [
       "           ra       dec         u         g         r         i         z  \\\n",
       "0  183.531326  0.089693  19.47406  17.04240  15.94699  15.50342  15.22531   \n",
       "1  183.598371  0.135285  18.66280  17.21449  16.67637  16.48922  16.39150   \n",
       "2  183.680207  0.126185  19.38298  18.19169  17.47428  17.08732  16.80125   \n",
       "3  183.870529  0.049911  17.76536  16.60272  16.16116  15.98233  15.90438   \n",
       "4  183.883288  0.102557  17.55025  16.26342  16.43869  16.55492  16.61326   \n",
       "\n",
       "   run  rerun  camcol  field     specobjid   class  redshift  plate    mjd  \\\n",
       "0  752    301       4    267  3.722360e+18    STAR -0.000009   3306  54922   \n",
       "1  752    301       4    267  3.638140e+17    STAR -0.000055    323  51615   \n",
       "2  752    301       4    268  3.232740e+17  GALAXY  0.123111    287  52023   \n",
       "3  752    301       4    269  3.722370e+18    STAR -0.000111   3306  54922   \n",
       "4  752    301       4    269  3.722370e+18    STAR  0.000590   3306  54922   \n",
       "\n",
       "   fiberid  \n",
       "0      491  \n",
       "1      541  \n",
       "2      513  \n",
       "3      510  \n",
       "4      512  "
      ]
     },
     "execution_count": 16,
     "metadata": {},
     "output_type": "execute_result"
    }
   ],
   "source": [
    "df = df.drop(labels=[\"objid\"], axis=1)\n",
    "df.head()"
   ]
  },
  {
   "cell_type": "code",
   "execution_count": 17,
   "metadata": {},
   "outputs": [
    {
     "data": {
      "text/plain": [
       "{301: 10000}"
      ]
     },
     "execution_count": 17,
     "metadata": {},
     "output_type": "execute_result"
    }
   ],
   "source": [
    "counts(df, \"rerun\",\"\",\"\") #Todas las clases tiene esta misma características"
   ]
  },
  {
   "cell_type": "code",
   "execution_count": 18,
   "metadata": {},
   "outputs": [
    {
     "data": {
      "text/html": [
       "<div>\n",
       "<style scoped>\n",
       "    .dataframe tbody tr th:only-of-type {\n",
       "        vertical-align: middle;\n",
       "    }\n",
       "\n",
       "    .dataframe tbody tr th {\n",
       "        vertical-align: top;\n",
       "    }\n",
       "\n",
       "    .dataframe thead th {\n",
       "        text-align: right;\n",
       "    }\n",
       "</style>\n",
       "<table border=\"1\" class=\"dataframe\">\n",
       "  <thead>\n",
       "    <tr style=\"text-align: right;\">\n",
       "      <th></th>\n",
       "      <th>ra</th>\n",
       "      <th>dec</th>\n",
       "      <th>u</th>\n",
       "      <th>g</th>\n",
       "      <th>r</th>\n",
       "      <th>i</th>\n",
       "      <th>z</th>\n",
       "      <th>run</th>\n",
       "      <th>camcol</th>\n",
       "      <th>field</th>\n",
       "      <th>specobjid</th>\n",
       "      <th>class</th>\n",
       "      <th>redshift</th>\n",
       "      <th>plate</th>\n",
       "      <th>mjd</th>\n",
       "      <th>fiberid</th>\n",
       "    </tr>\n",
       "  </thead>\n",
       "  <tbody>\n",
       "    <tr>\n",
       "      <th>0</th>\n",
       "      <td>183.531326</td>\n",
       "      <td>0.089693</td>\n",
       "      <td>19.47406</td>\n",
       "      <td>17.04240</td>\n",
       "      <td>15.94699</td>\n",
       "      <td>15.50342</td>\n",
       "      <td>15.22531</td>\n",
       "      <td>752</td>\n",
       "      <td>4</td>\n",
       "      <td>267</td>\n",
       "      <td>3.722360e+18</td>\n",
       "      <td>STAR</td>\n",
       "      <td>-0.000009</td>\n",
       "      <td>3306</td>\n",
       "      <td>54922</td>\n",
       "      <td>491</td>\n",
       "    </tr>\n",
       "    <tr>\n",
       "      <th>1</th>\n",
       "      <td>183.598371</td>\n",
       "      <td>0.135285</td>\n",
       "      <td>18.66280</td>\n",
       "      <td>17.21449</td>\n",
       "      <td>16.67637</td>\n",
       "      <td>16.48922</td>\n",
       "      <td>16.39150</td>\n",
       "      <td>752</td>\n",
       "      <td>4</td>\n",
       "      <td>267</td>\n",
       "      <td>3.638140e+17</td>\n",
       "      <td>STAR</td>\n",
       "      <td>-0.000055</td>\n",
       "      <td>323</td>\n",
       "      <td>51615</td>\n",
       "      <td>541</td>\n",
       "    </tr>\n",
       "    <tr>\n",
       "      <th>2</th>\n",
       "      <td>183.680207</td>\n",
       "      <td>0.126185</td>\n",
       "      <td>19.38298</td>\n",
       "      <td>18.19169</td>\n",
       "      <td>17.47428</td>\n",
       "      <td>17.08732</td>\n",
       "      <td>16.80125</td>\n",
       "      <td>752</td>\n",
       "      <td>4</td>\n",
       "      <td>268</td>\n",
       "      <td>3.232740e+17</td>\n",
       "      <td>GALAXY</td>\n",
       "      <td>0.123111</td>\n",
       "      <td>287</td>\n",
       "      <td>52023</td>\n",
       "      <td>513</td>\n",
       "    </tr>\n",
       "    <tr>\n",
       "      <th>3</th>\n",
       "      <td>183.870529</td>\n",
       "      <td>0.049911</td>\n",
       "      <td>17.76536</td>\n",
       "      <td>16.60272</td>\n",
       "      <td>16.16116</td>\n",
       "      <td>15.98233</td>\n",
       "      <td>15.90438</td>\n",
       "      <td>752</td>\n",
       "      <td>4</td>\n",
       "      <td>269</td>\n",
       "      <td>3.722370e+18</td>\n",
       "      <td>STAR</td>\n",
       "      <td>-0.000111</td>\n",
       "      <td>3306</td>\n",
       "      <td>54922</td>\n",
       "      <td>510</td>\n",
       "    </tr>\n",
       "    <tr>\n",
       "      <th>4</th>\n",
       "      <td>183.883288</td>\n",
       "      <td>0.102557</td>\n",
       "      <td>17.55025</td>\n",
       "      <td>16.26342</td>\n",
       "      <td>16.43869</td>\n",
       "      <td>16.55492</td>\n",
       "      <td>16.61326</td>\n",
       "      <td>752</td>\n",
       "      <td>4</td>\n",
       "      <td>269</td>\n",
       "      <td>3.722370e+18</td>\n",
       "      <td>STAR</td>\n",
       "      <td>0.000590</td>\n",
       "      <td>3306</td>\n",
       "      <td>54922</td>\n",
       "      <td>512</td>\n",
       "    </tr>\n",
       "  </tbody>\n",
       "</table>\n",
       "</div>"
      ],
      "text/plain": [
       "           ra       dec         u         g         r         i         z  \\\n",
       "0  183.531326  0.089693  19.47406  17.04240  15.94699  15.50342  15.22531   \n",
       "1  183.598371  0.135285  18.66280  17.21449  16.67637  16.48922  16.39150   \n",
       "2  183.680207  0.126185  19.38298  18.19169  17.47428  17.08732  16.80125   \n",
       "3  183.870529  0.049911  17.76536  16.60272  16.16116  15.98233  15.90438   \n",
       "4  183.883288  0.102557  17.55025  16.26342  16.43869  16.55492  16.61326   \n",
       "\n",
       "   run  camcol  field     specobjid   class  redshift  plate    mjd  fiberid  \n",
       "0  752       4    267  3.722360e+18    STAR -0.000009   3306  54922      491  \n",
       "1  752       4    267  3.638140e+17    STAR -0.000055    323  51615      541  \n",
       "2  752       4    268  3.232740e+17  GALAXY  0.123111    287  52023      513  \n",
       "3  752       4    269  3.722370e+18    STAR -0.000111   3306  54922      510  \n",
       "4  752       4    269  3.722370e+18    STAR  0.000590   3306  54922      512  "
      ]
     },
     "execution_count": 18,
     "metadata": {},
     "output_type": "execute_result"
    }
   ],
   "source": [
    "df = df.drop(labels=\"rerun\", axis=1)\n",
    "df.head()"
   ]
  },
  {
   "cell_type": "code",
   "execution_count": 19,
   "metadata": {},
   "outputs": [],
   "source": [
    "#Se usa get dummies en la columna camcol, ya que parece ser una característica calificativa\n",
    "camcol = pd.get_dummies(df['camcol'], prefix = \"camcol\")\n",
    "df = pd.concat([df,camcol], axis=1)\n",
    "df.head()\n",
    "df = df.drop(labels=[\"camcol\"],axis=1)"
   ]
  },
  {
   "cell_type": "markdown",
   "metadata": {},
   "source": [
    "# 2.- Aprendizaje con los datos en bruto"
   ]
  },
  {
   "cell_type": "markdown",
   "metadata": {},
   "source": [
    "Probaré el aprendizaje sin analizar ni limpiar los datos primero, pero si balancearé los datos, ya que en el siguiente panel, se puede observar que QSO no tiene suficientes datos \n",
    "\n",
    "## 2.1 - Oversampling a la clase QSO"
   ]
  },
  {
   "cell_type": "code",
   "execution_count": 25,
   "metadata": {},
   "outputs": [
    {
     "name": "stdout",
     "output_type": "stream",
     "text": [
      "Dataframe original: {'STAR': 4152, 'GALAXY': 4998, 'QSO': 850}\n",
      "Dataframe oversampled: {'STAR': 4152, 'GALAXY': 4998, 'QSO': 4152}\n"
     ]
    }
   ],
   "source": [
    "print(\"Dataframe original:\", counts(df,\"class\",\"\",\"\"))\n",
    "\n",
    "#Balanceamos un poco QSO para que al menos tenga la misma cantidad de muestras que STAR:\n",
    "STAR = df[df[\"class\"] == \"STAR\"]\n",
    "GALAXY = df[df[\"class\"] == \"GALAXY\"]\n",
    "QSO = df[df[\"class\"] == \"QSO\"]\n",
    "\n",
    "QSO_aumentado = QSO.sample(4152, replace = True)\n",
    "\n",
    "df_oversampled = pd.concat([STAR, GALAXY, QSO_aumentado], axis= 0)\n",
    "print(\"Dataframe oversampled:\", counts(df_oversampled,\"class\",\"\",\"\"))"
   ]
  },
  {
   "cell_type": "markdown",
   "metadata": {},
   "source": [
    "# 2.2 - Aprendizaje sin oversampling"
   ]
  },
  {
   "cell_type": "code",
   "execution_count": 26,
   "metadata": {},
   "outputs": [],
   "source": [
    "#Si probamos aplicar el aprendizaje sin el oversampling:\n",
    "df.head()\n",
    "#Separamos las características de las clases\n",
    "Y = df.iloc[:,10]\n",
    "X = df.drop(labels=\"class\", axis=1)\n",
    "#X.head()\n",
    "X_train, X_test, Y_train, Y_test = train_test_split(X, Y, test_size = .5, random_state=25)"
   ]
  },
  {
   "cell_type": "code",
   "execution_count": 27,
   "metadata": {},
   "outputs": [],
   "source": [
    "from sklearn import tree\n",
    "#Entrenamiento\n",
    "clf = tree.DecisionTreeClassifier()\n",
    "clf = clf.fit(X_train,Y_train)\n"
   ]
  },
  {
   "cell_type": "code",
   "execution_count": 28,
   "metadata": {
    "scrolled": false
   },
   "outputs": [
    {
     "name": "stdout",
     "output_type": "stream",
     "text": [
      "[[2429   44    2]\n",
      " [  42  398    0]\n",
      " [   8    0 2077]]\n",
      "              precision    recall  f1-score   support\n",
      "\n",
      "      GALAXY       0.98      0.98      0.98      2475\n",
      "         QSO       0.90      0.90      0.90       440\n",
      "        STAR       1.00      1.00      1.00      2085\n",
      "\n",
      "    accuracy                           0.98      5000\n",
      "   macro avg       0.96      0.96      0.96      5000\n",
      "weighted avg       0.98      0.98      0.98      5000\n",
      "\n"
     ]
    }
   ],
   "source": [
    "from sklearn.metrics import confusion_matrix\n",
    "from sklearn.metrics import classification_report\n",
    "\n",
    "#Predicción y matriz de confusión\n",
    "Y_pred = clf.predict(X_test)\n",
    "matriz = confusion_matrix(Y_test, Y_pred)\n",
    "print(matriz)\n",
    "\n",
    "#Métricas\n",
    "print(classification_report(Y_test, Y_pred))"
   ]
  },
  {
   "cell_type": "markdown",
   "metadata": {},
   "source": [
    "## 2.3 - Aprendizaje con oversampling\n",
    "\n",
    "La precisión de QSO aumenta aproximadamente en un 8% y el recall en 7%, pero STAR baja un 1% como veremos a continuación:"
   ]
  },
  {
   "cell_type": "code",
   "execution_count": 38,
   "metadata": {},
   "outputs": [
    {
     "name": "stdout",
     "output_type": "stream",
     "text": [
      "{'STAR': 4152, 'GALAXY': 4998, 'QSO': 4152}\n"
     ]
    }
   ],
   "source": [
    "\n",
    "print(counts(df_oversampled,\"class\", \"\", \"\"))\n",
    "#Separamos las características de las clases\n",
    "Y = df_oversampled.iloc[:,10]\n",
    "X = df_oversampled.drop(labels=\"class\", axis=1)\n",
    "#X.head()\n",
    "X_train, X_test, Y_train, Y_test = train_test_split(X, Y, test_size = .5, random_state=25)"
   ]
  },
  {
   "cell_type": "code",
   "execution_count": 39,
   "metadata": {},
   "outputs": [],
   "source": [
    "#Entrenamiento\n",
    "clf = tree.DecisionTreeClassifier()\n",
    "clf = clf.fit(X_train,Y_train)"
   ]
  },
  {
   "cell_type": "code",
   "execution_count": 40,
   "metadata": {},
   "outputs": [
    {
     "name": "stdout",
     "output_type": "stream",
     "text": [
      "[[2411   56   15]\n",
      " [   8 2052    4]\n",
      " [   9    0 2096]]\n",
      "              precision    recall  f1-score   support\n",
      "\n",
      "      GALAXY       0.99      0.97      0.98      2482\n",
      "         QSO       0.97      0.99      0.98      2064\n",
      "        STAR       0.99      1.00      0.99      2105\n",
      "\n",
      "    accuracy                           0.99      6651\n",
      "   macro avg       0.99      0.99      0.99      6651\n",
      "weighted avg       0.99      0.99      0.99      6651\n",
      "\n"
     ]
    }
   ],
   "source": [
    "#Predicción y matriz de confusión\n",
    "Y_pred = clf.predict(X_test)\n",
    "matriz = confusion_matrix(Y_test, Y_pred)\n",
    "print(matriz)\n",
    "\n",
    "#Métricas\n",
    "print(classification_report(Y_test, Y_pred))\n"
   ]
  },
  {
   "cell_type": "markdown",
   "metadata": {},
   "source": [
    "### Se puede observar que Tree con oversampling es una muy buena opción para predecir si las características proporcionadas pertenecen a una estrella, galaxia o quasar"
   ]
  },
  {
   "cell_type": "markdown",
   "metadata": {},
   "source": [
    "# 2.4. - Aprendizaje con algoritmo Nearest Neighbors"
   ]
  },
  {
   "cell_type": "code",
   "execution_count": 43,
   "metadata": {},
   "outputs": [
    {
     "data": {
      "text/plain": [
       "KNeighborsClassifier(algorithm='auto', leaf_size=30, metric='minkowski',\n",
       "                     metric_params=None, n_jobs=None, n_neighbors=5, p=2,\n",
       "                     weights='uniform')"
      ]
     },
     "execution_count": 43,
     "metadata": {},
     "output_type": "execute_result"
    }
   ],
   "source": [
    "#Intentemos con otro algoritmo Nearest Neighbors Classification\n",
    "from sklearn import neighbors\n",
    "\n",
    "#Aprendizaje\n",
    "clf = neighbors.KNeighborsClassifier()\n",
    "clf.fit(X_train, Y_train)"
   ]
  },
  {
   "cell_type": "code",
   "execution_count": 44,
   "metadata": {},
   "outputs": [
    {
     "name": "stdout",
     "output_type": "stream",
     "text": [
      "[[1647  744   91]\n",
      " [ 502 1484   78]\n",
      " [ 320  287 1498]]\n",
      "              precision    recall  f1-score   support\n",
      "\n",
      "      GALAXY       0.67      0.66      0.67      2482\n",
      "         QSO       0.59      0.72      0.65      2064\n",
      "        STAR       0.90      0.71      0.79      2105\n",
      "\n",
      "    accuracy                           0.70      6651\n",
      "   macro avg       0.72      0.70      0.70      6651\n",
      "weighted avg       0.72      0.70      0.70      6651\n",
      "\n"
     ]
    }
   ],
   "source": [
    "#Predicción y matriz de confusión\n",
    "Y_pred = clf.predict(X_test)\n",
    "matriz = confusion_matrix(Y_test, Y_pred)\n",
    "print(matriz)\n",
    "\n",
    "#Métricas\n",
    "from sklearn.metrics import classification_report\n",
    "print(classification_report(Y_test, Y_pred))"
   ]
  },
  {
   "cell_type": "markdown",
   "metadata": {},
   "source": [
    "Tal parece que Nearest Neighbors no es muy efectivo en este caso"
   ]
  },
  {
   "cell_type": "markdown",
   "metadata": {},
   "source": [
    "## 2.5 - Apredinzaje con Random forest"
   ]
  },
  {
   "cell_type": "code",
   "execution_count": 45,
   "metadata": {},
   "outputs": [
    {
     "data": {
      "text/plain": [
       "RandomForestClassifier(bootstrap=True, ccp_alpha=0.0, class_weight=None,\n",
       "                       criterion='gini', max_depth=None, max_features='auto',\n",
       "                       max_leaf_nodes=None, max_samples=None,\n",
       "                       min_impurity_decrease=0.0, min_impurity_split=None,\n",
       "                       min_samples_leaf=1, min_samples_split=2,\n",
       "                       min_weight_fraction_leaf=0.0, n_estimators=100,\n",
       "                       n_jobs=None, oob_score=False, random_state=None,\n",
       "                       verbose=0, warm_start=False)"
      ]
     },
     "execution_count": 45,
     "metadata": {},
     "output_type": "execute_result"
    }
   ],
   "source": [
    "from sklearn.ensemble import RandomForestClassifier\n",
    "\n",
    "#Aprendizaje\n",
    "clf = RandomForestClassifier()\n",
    "clf.fit(X_train, Y_train)"
   ]
  },
  {
   "cell_type": "code",
   "execution_count": 47,
   "metadata": {},
   "outputs": [
    {
     "name": "stdout",
     "output_type": "stream",
     "text": [
      "[[2438   27   17]\n",
      " [   4 2056    4]\n",
      " [   0    0 2105]]\n",
      "              precision    recall  f1-score   support\n",
      "\n",
      "      GALAXY       1.00      0.98      0.99      2482\n",
      "         QSO       0.99      1.00      0.99      2064\n",
      "        STAR       0.99      1.00      1.00      2105\n",
      "\n",
      "    accuracy                           0.99      6651\n",
      "   macro avg       0.99      0.99      0.99      6651\n",
      "weighted avg       0.99      0.99      0.99      6651\n",
      "\n"
     ]
    }
   ],
   "source": [
    "#Predicción y matriz de confusión\n",
    "Y_pred = clf.predict(X_test)\n",
    "matriz = confusion_matrix(Y_test, Y_pred)\n",
    "print(matriz)\n",
    "\n",
    "#Métricas\n",
    "print(classification_report(Y_test, Y_pred))"
   ]
  },
  {
   "cell_type": "markdown",
   "metadata": {},
   "source": [
    "Random Forest es el mejor resultado hasta ahora ya que en promedio mejora el recall y presición de GALAXY e incluso la de QSO"
   ]
  },
  {
   "cell_type": "markdown",
   "metadata": {},
   "source": [
    "# 3. -¿Que pasa ahora, si sacamos los datos que están fuera de la campana de Gauss en cada característica de tipo contínua?"
   ]
  },
  {
   "cell_type": "code",
   "execution_count": 48,
   "metadata": {},
   "outputs": [],
   "source": [
    "from scipy.stats import norm\n",
    "import matplotlib.pyplot as plt\n",
    "\n",
    "def distribucion(data, nombre):\n",
    "    dist = norm(loc=np.mean(data), scale=np.std(data))\n",
    "    x = np.linspace(dist.ppf(0.001),\n",
    "                    dist.ppf(0.999), 100)\n",
    "    plt.hist(data, normed=True, label=nombre)\n",
    "    plt.plot(x, dist.pdf(x), \"r-\", label=nombre)\n",
    "    plt.legend()\n",
    "    return 0\n",
    "def limpiar(data, columna):\n",
    "    minimo = np.mean(data[columna]) - 2.698 * data[columna].std()\n",
    "    maximo = np.mean(data[columna]) + 2.698 * data[columna].std()\n",
    "    data = data[data[columna]>=minimo]\n",
    "    data = data[data[columna]<=maximo]\n",
    "    return data"
   ]
  },
  {
   "cell_type": "markdown",
   "metadata": {},
   "source": [
    "Ya que debiera haber diferentes características según la clase, se separarán los datos en 3 dataframes (uno por cada clase), y analizarán los 3 con diferentes colores en los gráficos. Se eliminarán los datos que estén fuera de la campana de gauss."
   ]
  },
  {
   "cell_type": "markdown",
   "metadata": {},
   "source": [
    "## 3.1 - Analisis de RA"
   ]
  },
  {
   "cell_type": "code",
   "execution_count": 49,
   "metadata": {},
   "outputs": [
    {
     "name": "stderr",
     "output_type": "stream",
     "text": [
      "C:\\Users\\Alexander\\Anaconda3\\lib\\site-packages\\ipykernel_launcher.py:8: MatplotlibDeprecationWarning: \n",
      "The 'normed' kwarg was deprecated in Matplotlib 2.1 and will be removed in 3.1. Use 'density' instead.\n",
      "  \n"
     ]
    },
    {
     "data": {
      "text/plain": [
       "0"
      ]
     },
     "execution_count": 49,
     "metadata": {},
     "output_type": "execute_result"
    },
    {
     "data": {
      "image/png": "[encoded data removed]",
      "text/plain": [
       "<Figure size 432x288 with 1 Axes>"
      ]
     },
     "metadata": {
      "needs_background": "light"
     },
     "output_type": "display_data"
    }
   ],
   "source": [
    "distribucion(STAR[\"dec\"],\"dec\")"
   ]
  },
  {
   "cell_type": "code",
   "execution_count": 52,
   "metadata": {},
   "outputs": [],
   "source": [
    "STAR = df_oversampled[df_oversampled[\"class\"] == \"STAR\"]\n",
    "GALAXY = df_oversampled[df_oversampled[\"class\"] == \"GALAXY\"]\n",
    "QSO = df_oversampled[df_oversampled[\"class\"] == \"QSO\"]\n",
    "\n",
    "STAR = limpiar(STAR,\"dec\")\n",
    "GALAXY = limpiar(GALAXY,\"dec\")\n",
    "QSO = limpiar(QSO,\"dec\")\n",
    "\n",
    "STAR = limpiar(STAR,\"u\")\n",
    "GALAXY = limpiar(GALAXY,\"u\")\n",
    "QSO = limpiar(QSO,\"u\")\n",
    "\n",
    "STAR = limpiar(STAR,\"g\")\n",
    "GALAXY = limpiar(GALAXY,\"g\")\n",
    "QSO = limpiar(QSO,\"g\")\n",
    "\n",
    "STAR = limpiar(STAR,\"r\")\n",
    "GALAXY = limpiar(GALAXY,\"r\")\n",
    "QSO = limpiar(QSO,\"r\")\n",
    "\n",
    "STAR = limpiar(STAR,\"i\")\n",
    "GALAXY = limpiar(GALAXY,\"i\")\n",
    "QSO = limpiar(QSO,\"i\")\n",
    "\n",
    "STAR = limpiar(STAR,\"z\")\n",
    "GALAXY = limpiar(GALAXY,\"z\")\n",
    "QSO = limpiar(QSO,\"z\")\n",
    "\n",
    "STAR = limpiar(STAR,\"run\")\n",
    "GALAXY = limpiar(GALAXY,\"run\")\n",
    "QSO = limpiar(QSO,\"run\")\n",
    "\n",
    "STAR = limpiar(STAR,\"field\")\n",
    "GALAXY = limpiar(GALAXY,\"field\")\n",
    "QSO = limpiar(QSO,\"field\")\n",
    "\n",
    "STAR = limpiar(STAR,\"specobjid\")\n",
    "GALAXY = limpiar(GALAXY,\"specobjid\")\n",
    "QSO = limpiar(QSO,\"specobjid\")\n",
    "\n",
    "\n",
    "\n",
    "STAR = limpiar(STAR,\"redshift\")\n",
    "GALAXY = limpiar(GALAXY,\"redshift\")\n",
    "QSO = limpiar(QSO,\"redshift\")\n",
    "\n",
    "\n",
    "\n",
    "STAR = limpiar(STAR,\"plate\")\n",
    "GALAXY = limpiar(GALAXY,\"plate\")\n",
    "QSO = limpiar(QSO,\"plate\")\n",
    "\n",
    "\n",
    "\n",
    "STAR = limpiar(STAR,\"mjd\")\n",
    "GALAXY = limpiar(GALAXY,\"mjd\")\n",
    "QSO = limpiar(QSO,\"mjd\")\n",
    "\n",
    "STAR = limpiar(STAR,\"fiberid\")\n",
    "GALAXY = limpiar(GALAXY,\"fiberid\")\n",
    "QSO = limpiar(QSO,\"fiberid\")"
   ]
  },
  {
   "cell_type": "code",
   "execution_count": 53,
   "metadata": {},
   "outputs": [
    {
     "name": "stdout",
     "output_type": "stream",
     "text": [
      "{'STAR': 3933, 'GALAXY': 4541, 'QSO': 3213}\n"
     ]
    }
   ],
   "source": [
    "#df_norm = QSO.sample(4152, replace = True)\n",
    "\n",
    "df_norm = pd.concat([STAR, GALAXY, QSO], axis= 0)\n",
    "print(counts(df_norm,\"class\",\"\",\"\"))"
   ]
  },
  {
   "cell_type": "markdown",
   "metadata": {},
   "source": [
    "## 3.2 - Haremos oversample de nuevo para balancear los datos"
   ]
  },
  {
   "cell_type": "code",
   "execution_count": 54,
   "metadata": {},
   "outputs": [
    {
     "name": "stdout",
     "output_type": "stream",
     "text": [
      "Cuenta:  {'STAR': 4541, 'GALAXY': 4541, 'QSO': 4541}\n"
     ]
    }
   ],
   "source": [
    "QSO = QSO.sample(4541, replace = True)\n",
    "STAR = STAR.sample(4541, replace = True)\n",
    "\n",
    "df_norm = pd.concat([STAR, GALAXY, QSO], axis= 0)\n",
    "print(\"Cuenta: \", counts(df_norm,\"class\",\"\",\"\"))"
   ]
  },
  {
   "cell_type": "markdown",
   "metadata": {},
   "source": [
    "## 3.3 Ahora se probará el aprendizaje con los grupos normalizados, pero con X_test, e Y_test originales."
   ]
  },
  {
   "cell_type": "code",
   "execution_count": 55,
   "metadata": {},
   "outputs": [],
   "source": [
    "Y = df_norm.iloc[:,10]\n",
    "X = df_norm.drop(labels=\"class\", axis=1)\n",
    "#X.head()\n",
    "X_train, X_test_norm, Y_train, Y_test_norm = train_test_split(X, Y, test_size = .5, random_state=25)"
   ]
  },
  {
   "cell_type": "code",
   "execution_count": 56,
   "metadata": {},
   "outputs": [],
   "source": [
    "#Entrenamiento\n",
    "clf = tree.DecisionTreeClassifier()\n",
    "clf = clf.fit(X_train,Y_train)\n"
   ]
  },
  {
   "cell_type": "code",
   "execution_count": 57,
   "metadata": {
    "scrolled": true
   },
   "outputs": [
    {
     "name": "stdout",
     "output_type": "stream",
     "text": [
      "[[2436   31   15]\n",
      " [ 132 1932    0]\n",
      " [   5    2 2098]]\n",
      "              precision    recall  f1-score   support\n",
      "\n",
      "      GALAXY       0.95      0.98      0.96      2482\n",
      "         QSO       0.98      0.94      0.96      2064\n",
      "        STAR       0.99      1.00      0.99      2105\n",
      "\n",
      "    accuracy                           0.97      6651\n",
      "   macro avg       0.97      0.97      0.97      6651\n",
      "weighted avg       0.97      0.97      0.97      6651\n",
      "\n"
     ]
    }
   ],
   "source": [
    "#Predicción y matriz de confusión\n",
    "Y_pred = clf.predict(X_test)\n",
    "matriz = confusion_matrix(Y_test, Y_pred)\n",
    "print(matriz)\n",
    "\n",
    "#Métricas\n",
    "print(classification_report(Y_test, Y_pred))"
   ]
  },
  {
   "cell_type": "markdown",
   "metadata": {},
   "source": [
    "Pareciera que eliminar los datos \"atípicos\" no ha servido de mucho, de hecho, el recall para QSO ha decrecido en un 6%, ha aumentado en un 2% el de GALAXY, pero a causa de esto mismo: la precisión también a bajado en un 2% para QSO, y ha subido en un 4% para GALAXY.\n",
    "## Tabla anterior:\n",
    "#### ---------------- precision ---- recall \n",
    "#### GALAXY ------ 0.99 --------- 0.97 \n",
    "#### QSO ------------ 0.97 --------- 1.00 \n",
    "#### STAR ----------- 0.99 -------- 1.00  \n"
   ]
  },
  {
   "cell_type": "markdown",
   "metadata": {},
   "source": [
    "## 3.4 - Random Forest con datos limpios"
   ]
  },
  {
   "cell_type": "code",
   "execution_count": 58,
   "metadata": {},
   "outputs": [
    {
     "name": "stdout",
     "output_type": "stream",
     "text": [
      "[[2382   21   79]\n",
      " [  88 1928   48]\n",
      " [   1    0 2104]]\n",
      "              precision    recall  f1-score   support\n",
      "\n",
      "      GALAXY       0.96      0.96      0.96      2482\n",
      "         QSO       0.99      0.93      0.96      2064\n",
      "        STAR       0.94      1.00      0.97      2105\n",
      "\n",
      "    accuracy                           0.96      6651\n",
      "   macro avg       0.97      0.96      0.96      6651\n",
      "weighted avg       0.97      0.96      0.96      6651\n",
      "\n"
     ]
    }
   ],
   "source": [
    "clf = RandomForestClassifier()\n",
    "clf.fit(X_train, Y_train)\n",
    "\n",
    "Y_pred = clf.predict(X_test)\n",
    "matriz = confusion_matrix(Y_test, Y_pred)\n",
    "print(matriz)\n",
    "\n",
    "#Métricas\n",
    "print(classification_report(Y_test, Y_pred))"
   ]
  },
  {
   "cell_type": "markdown",
   "metadata": {},
   "source": [
    "Ahora que hemos normalizado los datos: la precisión y el recall en general han bajado en comparación con los datos originales sin limpiar.\n",
    "\n",
    "Tal parece que los datos atípicos son necesarios en ciertos casos (y este es uno de esos casos), para que los algoritmos alcancen a detectar e identificar ciertas características atípicas para clasificarlas correctamente.\n",
    "\n",
    "Random Forest tiene mejor predicción con los datos sin normalizar, tal ves sea por la cantidad de subárboles que se generan (a diferencia del árbol binario que genera la librería \"tree\"), esto segrega aún más los datos, y hace más fácil identificar que a que clase pertenece una muestra"
   ]
  },
  {
   "cell_type": "markdown",
   "metadata": {},
   "source": [
    "# 4. - En conclusión:\n",
    "\n",
    "Me quedaría con Random Forest en este caso, ya que dió el mejor índice de precisión y recall entre los 3 algoritmos que se usaron"
   ]
  },
  {
   "cell_type": "code",
   "execution_count": 39,
   "metadata": {},
   "outputs": [
    {
     "name": "stdout",
     "output_type": "stream",
     "text": [
      "           ra       dec         u         g         r         i         z  \\\n",
      "0  183.531326  0.089693  19.47406  17.04240  15.94699  15.50342  15.22531   \n",
      "1  183.598371  0.135285  18.66280  17.21449  16.67637  16.48922  16.39150   \n",
      "3  183.870529  0.049911  17.76536  16.60272  16.16116  15.98233  15.90438   \n",
      "4  183.883288  0.102557  17.55025  16.26342  16.43869  16.55492  16.61326   \n",
      "5  183.847174  0.173694  19.43133  18.46779  18.16451  18.01475  18.04155   \n",
      "\n",
      "   run  field     specobjid  ...  redshift  plate    mjd  fiberid  camcol_1  \\\n",
      "0  752    267  3.722360e+18  ... -0.000009   3306  54922      491         0   \n",
      "1  752    267  3.638140e+17  ... -0.000055    323  51615      541         0   \n",
      "3  752    269  3.722370e+18  ... -0.000111   3306  54922      510         0   \n",
      "4  752    269  3.722370e+18  ...  0.000590   3306  54922      512         0   \n",
      "5  752    269  3.649550e+17  ...  0.000315    324  51666      594         0   \n",
      "\n",
      "   camcol_2  camcol_3  camcol_4  camcol_5  camcol_6  \n",
      "0         0         0         1         0         0  \n",
      "1         0         0         1         0         0  \n",
      "3         0         0         1         0         0  \n",
      "4         0         0         1         0         0  \n",
      "5         0         0         1         0         0  \n",
      "\n",
      "[5 rows x 21 columns]\n"
     ]
    }
   ],
   "source": [
    "print(df_oversampled.head())\n",
    "#Separamos las características de las clases\n",
    "Y = df_oversampled.iloc[:,10]\n",
    "X = df_oversampled.drop(labels=\"class\", axis=1)\n",
    "#X.head()\n",
    "X_train, X_test, Y_train, Y_test = train_test_split(X, Y, test_size = .5, random_state=25)"
   ]
  },
  {
   "cell_type": "code",
   "execution_count": 60,
   "metadata": {},
   "outputs": [
    {
     "name": "stdout",
     "output_type": "stream",
     "text": [
      "[[2380   19   83]\n",
      " [  88 1933   43]\n",
      " [   1    0 2104]]\n",
      "              precision    recall  f1-score   support\n",
      "\n",
      "      GALAXY       0.96      0.96      0.96      2482\n",
      "         QSO       0.99      0.94      0.96      2064\n",
      "        STAR       0.94      1.00      0.97      2105\n",
      "\n",
      "    accuracy                           0.96      6651\n",
      "   macro avg       0.97      0.96      0.96      6651\n",
      "weighted avg       0.97      0.96      0.96      6651\n",
      "\n"
     ]
    }
   ],
   "source": [
    "clf = RandomForestClassifier()\n",
    "clf.fit(X_train, Y_train)\n",
    "\n",
    "Y_pred = clf.predict(X_test)\n",
    "matriz = confusion_matrix(Y_test, Y_pred)\n",
    "print(matriz)\n",
    "\n",
    "#Métricas\n",
    "print(classification_report(Y_test, Y_pred))"
   ]
  },
  {
   "cell_type": "code",
   "execution_count": null,
   "metadata": {},
   "outputs": [],
   "source": []
  }
 ],
 "metadata": {
  "kernelspec": {
   "display_name": "Python 3",
   "language": "python",
   "name": "python3"
  },
  "language_info": {
   "codemirror_mode": {
    "name": "ipython",
    "version": 3
   },
   "file_extension": ".py",
   "mimetype": "text/x-python",
   "name": "python",
   "nbconvert_exporter": "python",
   "pygments_lexer": "ipython3",
   "version": "3.7.1"
  }
 },
 "nbformat": 4,
 "nbformat_minor": 2
}
